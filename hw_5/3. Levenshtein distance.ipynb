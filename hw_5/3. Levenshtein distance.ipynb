{
 "cells": [
  {
   "cell_type": "markdown",
   "metadata": {},
   "source": [
    "# Поиск наиболее близкого имени участника"
   ]
  },
  {
   "cell_type": "code",
   "execution_count": null,
   "metadata": {},
   "outputs": [],
   "source": [
    "# !conda install -c conda-forge python-levenshtein"
   ]
  },
  {
   "cell_type": "code",
   "execution_count": 4,
   "metadata": {
    "ExecuteTime": {
     "end_time": "2019-02-01T15:33:18.942197Z",
     "start_time": "2019-02-01T15:33:18.936391Z"
    }
   },
   "outputs": [],
   "source": [
    "# conda install -c conda-forge python-levenshtein\n",
    "# или pip install python-levenshtein\n",
    "\n",
    "import Levenshtein"
   ]
  },
  {
   "cell_type": "code",
   "execution_count": 1,
   "metadata": {
    "ExecuteTime": {
     "end_time": "2019-02-01T15:33:20.172793Z",
     "start_time": "2019-02-01T15:33:20.170014Z"
    }
   },
   "outputs": [],
   "source": [
    "# что было написано в заявке\n",
    "\n",
    "claim_list = [\n",
    "    'Шехавцова Анна',\n",
    "    'Гречихина Наталья',\n",
    "    'Козлова Алена',\n",
    "    'Груздева Алина',\n",
    "    'Кущенко Анна',\n",
    "    'Чистякова Анастасия'\n",
    "]"
   ]
  },
  {
   "cell_type": "code",
   "execution_count": 13,
   "metadata": {
    "ExecuteTime": {
     "end_time": "2019-02-01T15:33:20.429521Z",
     "start_time": "2019-02-01T15:33:20.426851Z"
    }
   },
   "outputs": [],
   "source": [
    "# результат расшифровки речи диктора\n",
    "\n",
    "speech_recognition = [\n",
    "    'кучменко она',\n",
    "    'кущенко оксана',\n",
    "    'груздь алина',\n",
    "    'рычихина наталья',\n",
    "    'шиховцева на',\n",
    "    'чистова анастасия'\n",
    "]"
   ]
  },
  {
   "cell_type": "markdown",
   "metadata": {},
   "source": [
    "### С библиотекой Levenshtein"
   ]
  },
  {
   "cell_type": "code",
   "execution_count": 5,
   "metadata": {
    "ExecuteTime": {
     "end_time": "2019-02-01T15:33:21.377605Z",
     "start_time": "2019-02-01T15:33:21.367822Z"
    }
   },
   "outputs": [
    {
     "data": {
      "text/plain": [
       "4"
      ]
     },
     "execution_count": 5,
     "metadata": {},
     "output_type": "execute_result"
    }
   ],
   "source": [
    "Levenshtein.distance('Оксана', 'Анна')"
   ]
  },
  {
   "cell_type": "code",
   "execution_count": 6,
   "metadata": {
    "ExecuteTime": {
     "end_time": "2019-02-01T15:33:22.036345Z",
     "start_time": "2019-02-01T15:33:22.032206Z"
    }
   },
   "outputs": [
    {
     "name": "stdout",
     "output_type": "stream",
     "text": [
      "кучменко она\n",
      "кущенко оксана\n",
      "груздь алина\n",
      "рычихина наталья\n",
      "шиховцева на\n",
      "чистова анастасия\n"
     ]
    }
   ],
   "source": [
    "for recognized_name in speech_recognition:\n",
    "    print(recognized_name)"
   ]
  },
  {
   "cell_type": "code",
   "execution_count": 7,
   "metadata": {
    "ExecuteTime": {
     "end_time": "2019-02-01T15:33:22.661953Z",
     "start_time": "2019-02-01T15:33:22.655737Z"
    }
   },
   "outputs": [
    {
     "name": "stdout",
     "output_type": "stream",
     "text": [
      "кучменко она,Шехавцова Анна,11\n",
      "кучменко она,Гречихина Наталья,14\n",
      "кучменко она,Козлова Алена,11\n",
      "кучменко она,Груздева Алина,10\n",
      "кучменко она,Кущенко Анна,5\n",
      "кучменко она,Чистякова Анастасия,15\n",
      "кущенко оксана,Шехавцова Анна,11\n",
      "кущенко оксана,Гречихина Наталья,15\n",
      "кущенко оксана,Козлова Алена,11\n",
      "кущенко оксана,Груздева Алина,11\n",
      "кущенко оксана,Кущенко Анна,5\n",
      "кущенко оксана,Чистякова Анастасия,14\n",
      "груздь алина,Шехавцова Анна,11\n",
      "груздь алина,Гречихина Наталья,14\n",
      "груздь алина,Козлова Алена,9\n",
      "груздь алина,Груздева Алина,5\n",
      "груздь алина,Кущенко Анна,10\n",
      "груздь алина,Чистякова Анастасия,16\n",
      "рычихина наталья,Шехавцова Анна,14\n",
      "рычихина наталья,Гречихина Наталья,3\n",
      "рычихина наталья,Козлова Алена,14\n",
      "рычихина наталья,Груздева Алина,14\n",
      "рычихина наталья,Кущенко Анна,14\n",
      "рычихина наталья,Чистякова Анастасия,12\n",
      "шиховцева на,Шехавцова Анна,6\n",
      "шиховцева на,Гречихина Наталья,14\n",
      "шиховцева на,Козлова Алена,9\n",
      "шиховцева на,Груздева Алина,9\n",
      "шиховцева на,Кущенко Анна,10\n",
      "шиховцева на,Чистякова Анастасия,13\n",
      "чистова анастасия,Шехавцова Анна,13\n",
      "чистова анастасия,Гречихина Наталья,12\n",
      "чистова анастасия,Козлова Алена,12\n",
      "чистова анастасия,Груздева Алина,14\n",
      "чистова анастасия,Кущенко Анна,14\n",
      "чистова анастасия,Чистякова Анастасия,4\n"
     ]
    }
   ],
   "source": [
    "for recognized_name in speech_recognition:\n",
    "    for real_name in claim_list:\n",
    "        print('{},{},{}'.format(recognized_name, real_name, Levenshtein.distance(recognized_name, real_name)))"
   ]
  },
  {
   "cell_type": "code",
   "execution_count": 36,
   "metadata": {},
   "outputs": [
    {
     "name": "stdout",
     "output_type": "stream",
     "text": [
      "[('Кущенко Анна', 5), ('Кущенко Анна', 5), ('Груздева Алина', 5), ('Гречихина Наталья', 3), ('Шехавцова Анна', 6), ('Чистякова Анастасия', 4)]\n"
     ]
    }
   ],
   "source": [
    "answer = []\n",
    "for recognized_name in speech_recognition:\n",
    "    dict_levenshtein = {}\n",
    "    for real_name in claim_list:\n",
    "        dict_levenshtein[real_name] = Levenshtein.distance(recognized_name, real_name)\n",
    "        \n",
    "    answer.append(sorted(dict_levenshtein.items(), key = lambda x: x[1])[0][0])\n",
    "print(answer)        "
   ]
  },
  {
   "cell_type": "markdown",
   "metadata": {},
   "source": [
    "### Без библиотеки из файла 'recognized_stats.txt'"
   ]
  },
  {
   "cell_type": "code",
   "execution_count": 38,
   "metadata": {
    "ExecuteTime": {
     "end_time": "2019-02-01T15:33:40.594095Z",
     "start_time": "2019-02-01T15:33:40.585255Z"
    }
   },
   "outputs": [
    {
     "name": "stdout",
     "output_type": "stream",
     "text": [
      "кучменко она Шехавцова Анна 11\n",
      "кучменко она Гречихина Наталья 14\n",
      "кучменко она Козлова Алена 11\n",
      "кучменко она Груздева Алина 10\n",
      "кучменко она Кущенко Анна 5\n",
      "кучменко она Чистякова Анастасия 15\n",
      "кущенко оксана Шехавцова Анна 11\n",
      "кущенко оксана Гречихина Наталья 15\n",
      "кущенко оксана Козлова Алена 11\n",
      "кущенко оксана Груздева Алина 11\n",
      "кущенко оксана Кущенко Анна 5\n",
      "кущенко оксана Чистякова Анастасия 14\n",
      "груздь алина Шехавцова Анна 11\n",
      "груздь алина Гречихина Наталья 14\n",
      "груздь алина Козлова Алена 9\n",
      "груздь алина Груздева Алина 5\n",
      "груздь алина Кущенко Анна 10\n",
      "груздь алина Чистякова Анастасия 16\n",
      "рычихина наталья Шехавцова Анна 14\n",
      "рычихина наталья Гречихина Наталья 3\n",
      "рычихина наталья Козлова Алена 14\n",
      "рычихина наталья Груздева Алина 14\n",
      "рычихина наталья Кущенко Анна 14\n",
      "рычихина наталья Чистякова Анастасия 12\n",
      "шиховцева на Шехавцова Анна 6\n",
      "шиховцева на Гречихина Наталья 14\n",
      "шиховцева на Козлова Алена 9\n",
      "шиховцева на Груздева Алина 9\n",
      "шиховцева на Кущенко Анна 10\n",
      "шиховцева на Чистякова Анастасия 13\n",
      "чистова анастасия Шехавцова Анна 13\n",
      "чистова анастасия Гречихина Наталья 12\n",
      "чистова анастасия Козлова Алена 12\n",
      "чистова анастасия Груздева Алина 14\n",
      "чистова анастасия Кущенко Анна 14\n",
      "чистова анастасия Чистякова Анастасия 4\n"
     ]
    }
   ],
   "source": [
    "distances = []\n",
    "\n",
    "f = open('recognized_stats.txt', mode = 'r', encoding = 'utf-8')\n",
    "\n",
    "lines = [line.strip().split(';') for line in f]\n",
    "\n",
    "for line in lines:\n",
    "    \n",
    "    for rec in line:\n",
    "        recognized_name, real_name, distance = rec.split(',')\n",
    "        print(recognized_name, real_name, distance)"
   ]
  },
  {
   "cell_type": "markdown",
   "metadata": {},
   "source": [
    "### Сортировка словаря"
   ]
  },
  {
   "cell_type": "code",
   "execution_count": 40,
   "metadata": {},
   "outputs": [
    {
     "data": {
      "text/plain": [
       "['кучменко она',\n",
       " 'кущенко оксана',\n",
       " 'груздь алина',\n",
       " 'рычихина наталья',\n",
       " 'шиховцева на',\n",
       " 'чистова анастасия']"
      ]
     },
     "execution_count": 40,
     "metadata": {},
     "output_type": "execute_result"
    }
   ],
   "source": [
    "speech_recognition"
   ]
  },
  {
   "cell_type": "code",
   "execution_count": 41,
   "metadata": {
    "ExecuteTime": {
     "end_time": "2019-02-01T15:33:46.483896Z",
     "start_time": "2019-02-01T15:33:46.480040Z"
    }
   },
   "outputs": [
    {
     "name": "stdout",
     "output_type": "stream",
     "text": [
      "Кущенко Анна\n",
      "Кущенко Анна\n",
      "Груздева Алина\n",
      "Гречихина Наталья\n",
      "Шехавцова Анна\n",
      "Чистякова Анастасия\n"
     ]
    }
   ],
   "source": [
    "for recognized_name in speech_recognition:\n",
    "    distances = {real_name: Levenshtein.distance(recognized_name, real_name) for real_name in claim_list}\n",
    "    print(sorted(distances.items(), key = lambda x: x[1])[0][0])   \n",
    "    \n"
   ]
  },
  {
   "cell_type": "code",
   "execution_count": 42,
   "metadata": {},
   "outputs": [
    {
     "data": {
      "text/plain": [
       "{'Шехавцова Анна': 13,\n",
       " 'Гречихина Наталья': 12,\n",
       " 'Козлова Алена': 12,\n",
       " 'Груздева Алина': 14,\n",
       " 'Кущенко Анна': 14,\n",
       " 'Чистякова Анастасия': 4}"
      ]
     },
     "execution_count": 42,
     "metadata": {},
     "output_type": "execute_result"
    }
   ],
   "source": [
    "distances"
   ]
  },
  {
   "cell_type": "code",
   "execution_count": 43,
   "metadata": {
    "ExecuteTime": {
     "end_time": "2019-02-01T15:33:48.108856Z",
     "start_time": "2019-02-01T15:33:48.104595Z"
    }
   },
   "outputs": [
    {
     "data": {
      "text/plain": [
       "[('Чистякова Анастасия', 4),\n",
       " ('Гречихина Наталья', 12),\n",
       " ('Козлова Алена', 12),\n",
       " ('Шехавцова Анна', 13),\n",
       " ('Груздева Алина', 14),\n",
       " ('Кущенко Анна', 14)]"
      ]
     },
     "execution_count": 43,
     "metadata": {},
     "output_type": "execute_result"
    }
   ],
   "source": [
    "# x[1] - сортировка по значениям словаря по возрастанию (если надо по убыванию - добавляем минус перед x[1])\n",
    "# x[0] - по ключам\n",
    "sorted(distances.items(), key = lambda x: x[1])"
   ]
  },
  {
   "cell_type": "code",
   "execution_count": null,
   "metadata": {},
   "outputs": [],
   "source": []
  },
  {
   "cell_type": "code",
   "execution_count": null,
   "metadata": {},
   "outputs": [],
   "source": []
  },
  {
   "cell_type": "code",
   "execution_count": null,
   "metadata": {},
   "outputs": [],
   "source": []
  },
  {
   "cell_type": "code",
   "execution_count": null,
   "metadata": {},
   "outputs": [],
   "source": []
  }
 ],
 "metadata": {
  "kernelspec": {
   "display_name": "Python 3",
   "language": "python",
   "name": "python3"
  },
  "language_info": {
   "codemirror_mode": {
    "name": "ipython",
    "version": 3
   },
   "file_extension": ".py",
   "mimetype": "text/x-python",
   "name": "python",
   "nbconvert_exporter": "python",
   "pygments_lexer": "ipython3",
   "version": "3.6.5"
  },
  "varInspector": {
   "cols": {
    "lenName": 16,
    "lenType": 16,
    "lenVar": 40
   },
   "kernels_config": {
    "python": {
     "delete_cmd_postfix": "",
     "delete_cmd_prefix": "del ",
     "library": "var_list.py",
     "varRefreshCmd": "print(var_dic_list())"
    },
    "r": {
     "delete_cmd_postfix": ") ",
     "delete_cmd_prefix": "rm(",
     "library": "var_list.r",
     "varRefreshCmd": "cat(var_dic_list()) "
    }
   },
   "types_to_exclude": [
    "module",
    "function",
    "builtin_function_or_method",
    "instance",
    "_Feature"
   ],
   "window_display": false
  }
 },
 "nbformat": 4,
 "nbformat_minor": 2
}
