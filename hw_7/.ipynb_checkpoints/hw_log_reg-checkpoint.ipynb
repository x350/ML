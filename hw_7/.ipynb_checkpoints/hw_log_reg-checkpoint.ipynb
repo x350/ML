{
 "cells": [
  {
   "cell_type": "code",
   "execution_count": 1,
   "metadata": {},
   "outputs": [],
   "source": [
    "import numpy as np\n",
    "import pandas as pd\n",
    "from sklearn.preprocessing import StandardScaler"
   ]
  },
  {
   "cell_type": "code",
   "execution_count": 2,
   "metadata": {},
   "outputs": [
    {
     "data": {
      "text/plain": [
       "array(['setosa', 'versicolor', 'virginica'], dtype='<U10')"
      ]
     },
     "execution_count": 2,
     "metadata": {},
     "output_type": "execute_result"
    }
   ],
   "source": [
    "from sklearn import datasets\n",
    "iris = datasets.load_iris()\n",
    "iris.target_names"
   ]
  },
  {
   "cell_type": "code",
   "execution_count": 3,
   "metadata": {},
   "outputs": [],
   "source": [
    "X = pd.DataFrame(iris.data, columns=iris.feature_names)\n",
    "y = pd.DataFrame(iris.target, columns=['species'])\n",
    "df = pd.concat([X,y], axis=1)"
   ]
  },
  {
   "cell_type": "code",
   "execution_count": 4,
   "metadata": {},
   "outputs": [],
   "source": [
    "# оставляем 2 класса\n",
    "df = df[df['species'] != 0]\n",
    "df['species'].where(df['species'] == 1, 0, inplace=True)"
   ]
  },
  {
   "cell_type": "code",
   "execution_count": 5,
   "metadata": {},
   "outputs": [],
   "source": [
    "# выделяем y\n",
    "y = np.array(df['species'])\n",
    "df.drop(['species'], axis=1, inplace=True)"
   ]
  },
  {
   "cell_type": "code",
   "execution_count": 6,
   "metadata": {},
   "outputs": [],
   "source": [
    "# нормализую фичи\n",
    "columns = df.columns\n",
    "scaler = StandardScaler()\n",
    "df[columns[0]] = scaler.fit_transform(np.array(df[columns[0]]).reshape(-1, 1))\n",
    "df[columns[1]] = scaler.fit_transform(np.array(df[columns[1]]).reshape(-1, 1))\n",
    "df[columns[2]] = scaler.fit_transform(np.array(df[columns[2]]).reshape(-1, 1))\n",
    "df[columns[3]] = scaler.fit_transform(np.array(df[columns[3]]).reshape(-1, 1))"
   ]
  },
  {
   "cell_type": "code",
   "execution_count": 7,
   "metadata": {},
   "outputs": [],
   "source": [
    "# получаю X\n",
    "X = np.array(df[columns])"
   ]
  },
  {
   "cell_type": "code",
   "execution_count": 8,
   "metadata": {},
   "outputs": [],
   "source": [
    "def sigmoid(scores):\n",
    "    return 1 / (1 + np.exp(-scores))"
   ]
  },
  {
   "cell_type": "code",
   "execution_count": 9,
   "metadata": {},
   "outputs": [],
   "source": [
    "def loss(Y_pred, Y_label):\n",
    "    return (-Y_label * np.log(Y_pred) - (1 - Y_label) * np.log(1 - Y_pred)).mean()"
   ]
  },
  {
   "cell_type": "code",
   "execution_count": 10,
   "metadata": {},
   "outputs": [],
   "source": [
    "def log_like(features, target, weights):\n",
    "    scores = np.dot(features, weights)\n",
    "    return  -np.sum( target*scores - np.log(1 + np.exp(scores)) ) "
   ]
  },
  {
   "cell_type": "code",
   "execution_count": 11,
   "metadata": {},
   "outputs": [],
   "source": [
    "def logistic_regression(features, target, steps, learning_rate):\n",
    "\n",
    "    weights = np.zeros(features.shape[1])\n",
    "    \n",
    "    for step in range(steps):\n",
    "        scores = np.dot(features, weights)\n",
    "        predictions = sigmoid(scores)\n",
    "        error = target - predictions\n",
    "        gradient = np.dot(features.T, error)\n",
    "        weights += learning_rate * gradient\n",
    "\n",
    "        if(step % 1000 == 0):\n",
    "            print (loss(predictions, target))\n",
    "        \n",
    "    return weights"
   ]
  },
  {
   "cell_type": "code",
   "execution_count": 12,
   "metadata": {},
   "outputs": [
    {
     "name": "stdout",
     "output_type": "stream",
     "text": [
      "0.6931471805599453\n",
      "0.08671066528517198\n",
      "0.07392458634698458\n",
      "0.06910262175058458\n",
      "0.06657721242226679\n",
      "0.06503897900604519\n",
      "0.06401502260202047\n",
      "0.06329198573226077\n",
      "0.06275943992131255\n",
      "0.062354572613840406\n"
     ]
    },
    {
     "data": {
      "text/plain": [
       "array([ 1.28950483,  1.59245194, -5.80687679, -5.77689667])"
      ]
     },
     "execution_count": 12,
     "metadata": {},
     "output_type": "execute_result"
    }
   ],
   "source": [
    "logistic_regression(X, y, 10000, 0.001)"
   ]
  },
  {
   "cell_type": "code",
   "execution_count": null,
   "metadata": {},
   "outputs": [],
   "source": []
  },
  {
   "cell_type": "code",
   "execution_count": null,
   "metadata": {},
   "outputs": [],
   "source": []
  }
 ],
 "metadata": {
  "kernelspec": {
   "display_name": "Python 3",
   "language": "python",
   "name": "python3"
  },
  "language_info": {
   "codemirror_mode": {
    "name": "ipython",
    "version": 3
   },
   "file_extension": ".py",
   "mimetype": "text/x-python",
   "name": "python",
   "nbconvert_exporter": "python",
   "pygments_lexer": "ipython3",
   "version": "3.6.5"
  }
 },
 "nbformat": 4,
 "nbformat_minor": 2
}
